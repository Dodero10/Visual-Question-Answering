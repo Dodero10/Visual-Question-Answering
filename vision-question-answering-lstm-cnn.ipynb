{
 "metadata": {
  "accelerator": "GPU",
  "colab": {
   "provenance": []
  },
  "kernelspec": {
   "name": "python3",
   "display_name": "Python 3",
   "language": "python"
  },
  "language_info": {
   "name": "python",
   "version": "3.10.12",
   "mimetype": "text/x-python",
   "codemirror_mode": {
    "name": "ipython",
    "version": 3
   },
   "pygments_lexer": "ipython3",
   "nbconvert_exporter": "python",
   "file_extension": ".py"
  },
  "kaggle": {
   "accelerator": "gpu",
   "dataSources": [
    {
     "sourceId": 2430275,
     "sourceType": "datasetVersion",
     "datasetId": 1470377
    },
    {
     "sourceId": 6745251,
     "sourceType": "datasetVersion",
     "datasetId": 3883894
    },
    {
     "sourceId": 6745312,
     "sourceType": "datasetVersion",
     "datasetId": 3883925
    }
   ],
   "dockerImageVersionId": 30559,
   "isInternetEnabled": true,
   "language": "python",
   "sourceType": "notebook",
   "isGpuEnabled": true
  }
 },
 "nbformat_minor": 4,
 "nbformat": 4,
 "cells": [
  {
   "cell_type": "markdown",
   "source": [
    "## 1. Import libraries"
   ],
   "metadata": {
    "id": "VljPGwOLCGoj"
   }
  },
  {
   "cell_type": "code",
   "source": [
    "!pip install timm -q"
   ],
   "metadata": {
    "id": "KDAACoro5r38",
    "execution": {
     "iopub.status.busy": "2024-04-18T00:24:21.589378Z",
     "iopub.execute_input": "2024-04-18T00:24:21.590162Z",
     "iopub.status.idle": "2024-04-18T00:24:33.654096Z",
     "shell.execute_reply.started": "2024-04-18T00:24:21.590124Z",
     "shell.execute_reply": "2024-04-18T00:24:33.652923Z"
    },
    "trusted": true
   },
   "execution_count": 2,
   "outputs": []
  },
  {
   "cell_type": "code",
   "source": [
    "import torch\n",
    "import torch.nn as nn\n",
    "import torchtext\n",
    "import os\n",
    "import numpy as np\n",
    "import pandas as pd\n",
    "import spacy\n",
    "import timm\n",
    "import matplotlib.pyplot as plt\n",
    "\n",
    "from PIL import Image\n",
    "from torch.utils.data import Dataset, DataLoader\n",
    "from sklearn.model_selection import train_test_split\n",
    "from torchtext.data.utils import get_tokenizer\n",
    "from torchtext.vocab import build_vocab_from_iterator\n",
    "from torchvision import transforms"
   ],
   "metadata": {
    "id": "zwmJUbxKCPjS",
    "execution": {
     "iopub.status.busy": "2024-04-18T00:25:31.826244Z",
     "iopub.execute_input": "2024-04-18T00:25:31.826655Z",
     "iopub.status.idle": "2024-04-18T00:25:31.832742Z",
     "shell.execute_reply.started": "2024-04-18T00:25:31.826628Z",
     "shell.execute_reply": "2024-04-18T00:25:31.831740Z"
    },
    "trusted": true
   },
   "execution_count": 5,
   "outputs": []
  },
  {
   "cell_type": "markdown",
   "source": [
    "## 2. Read dataset"
   ],
   "metadata": {
    "id": "Iu20gzLxCu2y"
   }
  },
  {
   "cell_type": "code",
   "source": [
    "train_data = []\n",
    "train_set_path = '/kaggle/input/vqadat/vaq2.0.TrainImages.txt'\n",
    "\n",
    "with open(train_set_path, \"r\") as f:\n",
    "    lines = f.readlines()\n",
    "    for line in lines:\n",
    "        temp = line.split('\\t')\n",
    "        qa = temp[1].split('?')\n",
    "\n",
    "        if len(qa) == 3:\n",
    "            answer = qa[2].strip()\n",
    "        else:\n",
    "            answer = qa[1].strip()\n",
    "\n",
    "        data_sample = {\n",
    "            'image_path': temp[0][:-2],\n",
    "            'question': qa[0] + '?',\n",
    "            'answer': answer\n",
    "        }\n",
    "        train_data.append(data_sample)"
   ],
   "metadata": {
    "id": "ZOxeYUBvCSki",
    "execution": {
     "iopub.status.busy": "2024-04-18T00:25:53.508352Z",
     "iopub.execute_input": "2024-04-18T00:25:53.508701Z",
     "iopub.status.idle": "2024-04-18T00:25:53.543868Z",
     "shell.execute_reply.started": "2024-04-18T00:25:53.508674Z",
     "shell.execute_reply": "2024-04-18T00:25:53.543105Z"
    },
    "trusted": true
   },
   "execution_count": 6,
   "outputs": []
  },
  {
   "cell_type": "code",
   "source": [
    "val_data = []\n",
    "val_set_path = '/kaggle/input/vqadat/vaq2.0.DevImages.txt'\n",
    "\n",
    "with open(val_set_path, \"r\") as f:\n",
    "    lines = f.readlines()\n",
    "    for line in lines:\n",
    "        temp = line.split('\\t')\n",
    "        qa = temp[1].split('?')\n",
    "\n",
    "        if len(qa) == 3:\n",
    "            answer = qa[2].strip()\n",
    "        else:\n",
    "            answer = qa[1].strip()\n",
    "\n",
    "        data_sample = {\n",
    "            'image_path': temp[0][:-2],\n",
    "            'question': qa[0] + '?',\n",
    "            'answer': answer\n",
    "        }\n",
    "        val_data.append(data_sample)"
   ],
   "metadata": {
    "id": "EiZ7OwSfCrKa",
    "execution": {
     "iopub.status.busy": "2024-04-18T00:26:12.879219Z",
     "iopub.execute_input": "2024-04-18T00:26:12.879841Z",
     "iopub.status.idle": "2024-04-18T00:26:12.892778Z",
     "shell.execute_reply.started": "2024-04-18T00:26:12.879811Z",
     "shell.execute_reply": "2024-04-18T00:26:12.891809Z"
    },
    "trusted": true
   },
   "execution_count": 8,
   "outputs": []
  },
  {
   "cell_type": "code",
   "source": [
    "test_data = []\n",
    "test_set_path = '/kaggle/input/vqadat/vaq2.0.TestImages.txt'\n",
    "\n",
    "with open(test_set_path, \"r\") as f:\n",
    "    lines = f.readlines()\n",
    "    for line in lines:\n",
    "        temp = line.split('\\t')\n",
    "        qa = temp[1].split('?')\n",
    "\n",
    "        if len(qa) == 3:\n",
    "            answer = qa[2].strip()\n",
    "        else:\n",
    "            answer = qa[1].strip()\n",
    "\n",
    "        data_sample = {\n",
    "            'image_path': temp[0][:-2],\n",
    "            'question': qa[0] + '?',\n",
    "            'answer': answer\n",
    "        }\n",
    "        test_data.append(data_sample)"
   ],
   "metadata": {
    "id": "ZoX0dQbjEx53",
    "execution": {
     "iopub.status.busy": "2024-04-18T00:26:47.219526Z",
     "iopub.execute_input": "2024-04-18T00:26:47.219946Z",
     "iopub.status.idle": "2024-04-18T00:26:47.233317Z",
     "shell.execute_reply.started": "2024-04-18T00:26:47.219917Z",
     "shell.execute_reply": "2024-04-18T00:26:47.232260Z"
    },
    "trusted": true
   },
   "execution_count": 10,
   "outputs": []
  },
  {
   "cell_type": "markdown",
   "source": [
    "## 3. Data Preprocessing"
   ],
   "metadata": {
    "id": "A_n5-R4NMqBx"
   }
  },
  {
   "cell_type": "code",
   "source": [
    "eng = spacy.load(\"en_core_web_sm\") # Load the English model to tokenize English text\n",
    "\n",
    "def get_tokens(data_iter):\n",
    "    for sample in data_iter:\n",
    "        question = sample['question']\n",
    "\n",
    "        yield [token.text for token in eng.tokenizer(question)]\n",
    "\n",
    "\n",
    "vocab = build_vocab_from_iterator(\n",
    "    get_tokens(train_data),\n",
    "    min_freq=2,\n",
    "    specials= ['<pad>', '<sos>', '<eos>', '<unk>'],\n",
    "    special_first=True\n",
    ")\n",
    "vocab.set_default_index(vocab['<unk>'])"
   ],
   "metadata": {
    "id": "_RqGo2gUNwLW",
    "execution": {
     "iopub.status.busy": "2024-04-18T00:26:50.204133Z",
     "iopub.execute_input": "2024-04-18T00:26:50.205160Z",
     "iopub.status.idle": "2024-04-18T00:26:51.817864Z",
     "shell.execute_reply.started": "2024-04-18T00:26:50.205121Z",
     "shell.execute_reply": "2024-04-18T00:26:51.816887Z"
    },
    "trusted": true
   },
   "execution_count": 11,
   "outputs": []
  },
  {
   "cell_type": "code",
   "source": [
    "len(vocab)"
   ],
   "metadata": {
    "id": "NDRHRaKyRiq6",
    "colab": {
     "base_uri": "https://localhost:8080/"
    },
    "outputId": "d16b124c-2f1a-4f00-8ef4-0d5e0be84d88",
    "execution": {
     "iopub.status.busy": "2024-04-18T00:26:54.230206Z",
     "iopub.execute_input": "2024-04-18T00:26:54.230728Z",
     "iopub.status.idle": "2024-04-18T00:26:54.238319Z",
     "shell.execute_reply.started": "2024-04-18T00:26:54.230692Z",
     "shell.execute_reply": "2024-04-18T00:26:54.237226Z"
    },
    "trusted": true
   },
   "execution_count": 12,
   "outputs": [
    {
     "execution_count": 12,
     "output_type": "execute_result",
     "data": {
      "text/plain": "1678"
     },
     "metadata": {}
    }
   ]
  },
  {
   "cell_type": "code",
   "source": [
    "def tokenize(question, max_seq_len):\n",
    "    tokens = [token.text for token in eng.tokenizer(question)]\n",
    "    sequence = [vocab[token] for token in tokens]\n",
    "    if len(sequence) < max_seq_len:\n",
    "        sequence += [vocab['<pad>']] * (max_seq_len - len(sequence))\n",
    "    else:\n",
    "        sequence = sequence[:max_seq_len]\n",
    "\n",
    "    return sequence"
   ],
   "metadata": {
    "id": "G8cMLRR5Nyrm",
    "execution": {
     "iopub.status.busy": "2024-04-18T00:26:56.672323Z",
     "iopub.execute_input": "2024-04-18T00:26:56.672705Z",
     "iopub.status.idle": "2024-04-18T00:26:56.678801Z",
     "shell.execute_reply.started": "2024-04-18T00:26:56.672673Z",
     "shell.execute_reply": "2024-04-18T00:26:56.677686Z"
    },
    "trusted": true
   },
   "execution_count": 13,
   "outputs": []
  },
  {
   "cell_type": "code",
   "source": [
    "example_question = \"Is this a picture of an apple?\"\n",
    "max_seq_len = 20\n",
    "\n",
    "tokenize(example_question, max_seq_len)"
   ],
   "metadata": {
    "id": "GNfi1xqHTDgA",
    "colab": {
     "base_uri": "https://localhost:8080/"
    },
    "outputId": "d79f65f7-7aea-443d-8f2c-2d3aea6be516",
    "execution": {
     "iopub.status.busy": "2024-04-18T00:26:59.180681Z",
     "iopub.execute_input": "2024-04-18T00:26:59.181700Z",
     "iopub.status.idle": "2024-04-18T00:26:59.190626Z",
     "shell.execute_reply.started": "2024-04-18T00:26:59.181653Z",
     "shell.execute_reply": "2024-04-18T00:26:59.189544Z"
    },
    "trusted": true
   },
   "execution_count": 14,
   "outputs": [
    {
     "execution_count": 14,
     "output_type": "execute_result",
     "data": {
      "text/plain": "[6, 5, 7, 16, 21, 75, 3, 4, 0, 0, 0, 0, 0, 0, 0, 0, 0, 0, 0, 0]"
     },
     "metadata": {}
    }
   ]
  },
  {
   "cell_type": "code",
   "source": [
    "classes = set([sample['answer'] for sample in train_data])\n",
    "classes_to_idx = {\n",
    "    cls_name: idx for idx, cls_name in enumerate(classes)\n",
    "}\n",
    "idx_to_classes = {\n",
    "    idx: cls_name for idx, cls_name in enumerate(classes)\n",
    "}\n",
    "print(idx_to_classes)"
   ],
   "metadata": {
    "colab": {
     "base_uri": "https://localhost:8080/"
    },
    "id": "d6Qf8EMA-gjK",
    "outputId": "e378185b-ecc9-471d-f386-2bf3079c448e",
    "execution": {
     "iopub.status.busy": "2024-04-18T00:27:01.009861Z",
     "iopub.execute_input": "2024-04-18T00:27:01.010900Z",
     "iopub.status.idle": "2024-04-18T00:27:01.018599Z",
     "shell.execute_reply.started": "2024-04-18T00:27:01.010864Z",
     "shell.execute_reply": "2024-04-18T00:27:01.017560Z"
    },
    "trusted": true
   },
   "execution_count": 15,
   "outputs": [
    {
     "name": "stdout",
     "text": "{0: 'yes', 1: 'no'}\n",
     "output_type": "stream"
    }
   ]
  },
  {
   "cell_type": "markdown",
   "source": [
    "## 4. Create Pytorch dataset"
   ],
   "metadata": {
    "id": "9UznC-J7FVTf"
   }
  },
  {
   "cell_type": "code",
   "source": [
    "class VQADataset(Dataset):\n",
    "    def __init__(\n",
    "        self,\n",
    "        data,\n",
    "        classes_to_idx,\n",
    "        max_seq_len=20,\n",
    "        transform=None,\n",
    "        root_dir='/kaggle/input/vqadat/val2014-resised/val2014-resised'\n",
    "    ):\n",
    "        self.transform = transform\n",
    "        self.data = data\n",
    "        self.max_seq_len = max_seq_len\n",
    "        self.root_dir = root_dir\n",
    "        self.classes_to_idx = classes_to_idx\n",
    "\n",
    "    def __len__(self):\n",
    "        return len(self.data)\n",
    "\n",
    "    def __getitem__(self, index):\n",
    "        img_path = os.path.join(self.root_dir, self.data[index]['image_path'])\n",
    "        img = Image.open(img_path).convert('RGB')\n",
    "        if self.transform:\n",
    "            img = self.transform(img)\n",
    "\n",
    "        question = self.data[index]['question']\n",
    "        question = tokenize(question, self.max_seq_len)\n",
    "        question = torch.tensor(question, dtype=torch.long)\n",
    "\n",
    "        label = self.data[index]['answer']\n",
    "        label = classes_to_idx[label]\n",
    "        label = torch.tensor(label, dtype=torch.long)\n",
    "\n",
    "        return img, question, label"
   ],
   "metadata": {
    "id": "fXAFcSjnGlZF",
    "execution": {
     "iopub.status.busy": "2024-04-18T00:27:57.859918Z",
     "iopub.execute_input": "2024-04-18T00:27:57.860563Z",
     "iopub.status.idle": "2024-04-18T00:27:57.869800Z",
     "shell.execute_reply.started": "2024-04-18T00:27:57.860528Z",
     "shell.execute_reply": "2024-04-18T00:27:57.868837Z"
    },
    "trusted": true
   },
   "execution_count": 18,
   "outputs": []
  },
  {
   "cell_type": "code",
   "source": [
    "transform = transforms.Compose([\n",
    "    transforms.Resize((224, 224)),\n",
    "    transforms.ToTensor(),\n",
    "    transforms.Normalize((0.485, 0.456, 0.406), (0.229, 0.224, 0.225)),\n",
    "])"
   ],
   "metadata": {
    "id": "AtRtdtYzrgeB",
    "execution": {
     "iopub.status.busy": "2024-04-18T00:28:01.294973Z",
     "iopub.execute_input": "2024-04-18T00:28:01.295709Z",
     "iopub.status.idle": "2024-04-18T00:28:01.300640Z",
     "shell.execute_reply.started": "2024-04-18T00:28:01.295677Z",
     "shell.execute_reply": "2024-04-18T00:28:01.299583Z"
    },
    "trusted": true
   },
   "execution_count": 19,
   "outputs": []
  },
  {
   "cell_type": "code",
   "source": [
    "train_dataset = VQADataset(\n",
    "    train_data,\n",
    "    classes_to_idx=classes_to_idx,\n",
    "    transform=transform\n",
    ")\n",
    "val_dataset = VQADataset(\n",
    "    val_data,\n",
    "    classes_to_idx=classes_to_idx,\n",
    "    transform=transform\n",
    ")\n",
    "test_dataset = VQADataset(\n",
    "    test_data,\n",
    "    classes_to_idx=classes_to_idx,\n",
    "    transform=transform\n",
    ")"
   ],
   "metadata": {
    "id": "NmyFmD_GL-BQ",
    "execution": {
     "iopub.status.busy": "2024-04-18T00:28:03.470689Z",
     "iopub.execute_input": "2024-04-18T00:28:03.471041Z",
     "iopub.status.idle": "2024-04-18T00:28:03.476672Z",
     "shell.execute_reply.started": "2024-04-18T00:28:03.471015Z",
     "shell.execute_reply": "2024-04-18T00:28:03.475403Z"
    },
    "trusted": true
   },
   "execution_count": 20,
   "outputs": []
  },
  {
   "cell_type": "code",
   "source": [
    "train_batch_size = 128\n",
    "test_batch_size = 32\n",
    "\n",
    "train_loader = DataLoader(\n",
    "    train_dataset,\n",
    "    batch_size=train_batch_size,\n",
    "    shuffle=True\n",
    ")\n",
    "val_loader = DataLoader(\n",
    "    val_dataset,\n",
    "    batch_size=test_batch_size,\n",
    "    shuffle=False\n",
    ")\n",
    "test_loader = DataLoader(\n",
    "    test_dataset,\n",
    "    batch_size=test_batch_size,\n",
    "    shuffle=False\n",
    ")"
   ],
   "metadata": {
    "id": "AToEIVctirQK",
    "execution": {
     "iopub.status.busy": "2024-04-18T00:28:05.886405Z",
     "iopub.execute_input": "2024-04-18T00:28:05.887169Z",
     "iopub.status.idle": "2024-04-18T00:28:05.893412Z",
     "shell.execute_reply.started": "2024-04-18T00:28:05.887137Z",
     "shell.execute_reply": "2024-04-18T00:28:05.892433Z"
    },
    "trusted": true
   },
   "execution_count": 21,
   "outputs": []
  },
  {
   "cell_type": "markdown",
   "source": [
    "## 5. Create Model"
   ],
   "metadata": {
    "id": "fOcnB225J90K"
   }
  },
  {
   "cell_type": "code",
   "source": [
    "class VQAModel(nn.Module):\n",
    "    def __init__(\n",
    "        self,\n",
    "        n_classes,\n",
    "        img_model_name='resnet50',\n",
    "        embeddding_dim=300,\n",
    "        n_layers=1,\n",
    "        hidden_size=128,\n",
    "        dropout_prob=0.2\n",
    "    ):\n",
    "        super(VQAModel, self).__init__()\n",
    "        self.image_encoder = timm.create_model(\n",
    "            img_model_name,\n",
    "            pretrained=True,\n",
    "            num_classes=hidden_size\n",
    "        )\n",
    "\n",
    "        self.embedding = nn.Embedding(len(vocab), embeddding_dim)\n",
    "        self.lstm1 = nn.LSTM(\n",
    "            input_size=embeddding_dim,\n",
    "            hidden_size=hidden_size,\n",
    "            num_layers=n_layers,\n",
    "            batch_first=True,\n",
    "            bidirectional=True\n",
    "        )\n",
    "        self.lstm2 = nn.LSTM(\n",
    "            input_size=hidden_size*3,\n",
    "            hidden_size=hidden_size,\n",
    "            num_layers=n_layers,\n",
    "            batch_first=True,\n",
    "            bidirectional=True\n",
    "        )\n",
    "        self.dropout = nn.Dropout(dropout_prob)\n",
    "        self.fc = nn.Linear(hidden_size * 2, n_classes)\n",
    "\n",
    "    def forward(self, img, text):\n",
    "        img_features = self.image_encoder(img)\n",
    "\n",
    "        text_emb = self.embedding(text)\n",
    "        lstm_out, _ = self.lstm1(text_emb)\n",
    "\n",
    "        lstm_out = lstm_out[:, -1, :]\n",
    "\n",
    "        combined = torch.cat((img_features, lstm_out), dim=1)\n",
    "        x, _ = self.lstm2(combined)\n",
    "        x = self.dropout(x)\n",
    "        x = self.fc(x)\n",
    "\n",
    "        return x"
   ],
   "metadata": {
    "id": "UwZNqfIvLmup",
    "execution": {
     "iopub.status.busy": "2024-04-18T00:28:08.320180Z",
     "iopub.execute_input": "2024-04-18T00:28:08.321097Z",
     "iopub.status.idle": "2024-04-18T00:28:08.331713Z",
     "shell.execute_reply.started": "2024-04-18T00:28:08.321063Z",
     "shell.execute_reply": "2024-04-18T00:28:08.330556Z"
    },
    "trusted": true
   },
   "execution_count": 22,
   "outputs": []
  },
  {
   "cell_type": "code",
   "source": [
    "n_classes = len(classes)\n",
    "img_model_name = 'resnet50'\n",
    "hidden_size = 128\n",
    "n_layers = 1\n",
    "embeddding_dim = 64\n",
    "dropout_prob = 0.2\n",
    "device = 'cuda' if torch.cuda.is_available() else 'cpu'\n",
    "\n",
    "model = VQAModel(\n",
    "    n_classes=n_classes,\n",
    "    img_model_name=img_model_name,\n",
    "    embeddding_dim=embeddding_dim,\n",
    "    n_layers=n_layers,\n",
    "    hidden_size=hidden_size,\n",
    "    dropout_prob=dropout_prob\n",
    ").to(device)"
   ],
   "metadata": {
    "id": "obxbBWAbkg2A",
    "execution": {
     "iopub.status.busy": "2024-04-18T00:30:32.985647Z",
     "iopub.execute_input": "2024-04-18T00:30:32.986429Z",
     "iopub.status.idle": "2024-04-18T00:30:34.605282Z",
     "shell.execute_reply.started": "2024-04-18T00:30:32.986393Z",
     "shell.execute_reply": "2024-04-18T00:30:34.604383Z"
    },
    "trusted": true
   },
   "execution_count": 23,
   "outputs": [
    {
     "output_type": "display_data",
     "data": {
      "text/plain": "Downloading model.safetensors:   0%|          | 0.00/102M [00:00<?, ?B/s]",
      "application/vnd.jupyter.widget-view+json": {
       "version_major": 2,
       "version_minor": 0,
       "model_id": "ac53a8b89d794c06b975a991bef2ca9d"
      }
     },
     "metadata": {}
    }
   ]
  },
  {
   "cell_type": "code",
   "source": [
    "images, questions, labels = next(iter(train_loader))\n",
    "\n",
    "model.eval()\n",
    "with torch.no_grad():\n",
    "    images = images.to(device)\n",
    "    questions = questions.to(device)\n",
    "    output = model(images, questions)\n",
    "    print(output.shape)"
   ],
   "metadata": {
    "id": "ZzhJzxrGmWSO",
    "colab": {
     "base_uri": "https://localhost:8080/"
    },
    "outputId": "13e3c3d3-f524-4335-82e5-5d37b33c66fe",
    "execution": {
     "iopub.status.busy": "2024-04-18T00:30:40.295859Z",
     "iopub.execute_input": "2024-04-18T00:30:40.296249Z",
     "iopub.status.idle": "2024-04-18T00:30:41.791826Z",
     "shell.execute_reply.started": "2024-04-18T00:30:40.296218Z",
     "shell.execute_reply": "2024-04-18T00:30:41.790784Z"
    },
    "trusted": true
   },
   "execution_count": 24,
   "outputs": [
    {
     "name": "stdout",
     "text": "torch.Size([128, 2])\n",
     "output_type": "stream"
    }
   ]
  },
  {
   "cell_type": "markdown",
   "source": [
    "## 6. Training"
   ],
   "metadata": {
    "id": "OmPEn5s-mjJe"
   }
  },
  {
   "cell_type": "code",
   "source": [
    "def evaluate(model, dataloader, criterion, device):\n",
    "    model.eval()\n",
    "    correct = 0\n",
    "    total = 0\n",
    "    losses = []\n",
    "    with torch.no_grad():\n",
    "        for image, question, labels in dataloader:\n",
    "            image, question, labels = image.to(device), question.to(device), labels.to(device)\n",
    "            outputs = model(image, question)\n",
    "            loss = criterion(outputs, labels)\n",
    "            losses.append(loss.item())\n",
    "            _, predicted = torch.max(outputs.data, 1)\n",
    "            total += labels.size(0)\n",
    "            correct += (predicted == labels).sum().item()\n",
    "\n",
    "    loss = sum(losses) / len(losses)\n",
    "    acc = correct / total\n",
    "\n",
    "    return loss, acc"
   ],
   "metadata": {
    "id": "pBIA8pH0rEHF",
    "execution": {
     "iopub.status.busy": "2024-04-18T00:30:43.047539Z",
     "iopub.execute_input": "2024-04-18T00:30:43.047925Z",
     "iopub.status.idle": "2024-04-18T00:30:43.055961Z",
     "shell.execute_reply.started": "2024-04-18T00:30:43.047893Z",
     "shell.execute_reply": "2024-04-18T00:30:43.055004Z"
    },
    "trusted": true
   },
   "execution_count": 25,
   "outputs": []
  },
  {
   "cell_type": "code",
   "source": [
    "def fit(\n",
    "    model,\n",
    "    train_loader,\n",
    "    val_loader,\n",
    "    criterion,\n",
    "    optimizer,\n",
    "    scheduler,\n",
    "    device,\n",
    "    epochs\n",
    "):\n",
    "    train_losses = []\n",
    "    val_losses = []\n",
    "\n",
    "    for epoch in range(epochs):\n",
    "        batch_train_losses = []\n",
    "\n",
    "        model.train()\n",
    "        for idx, (images, questions, labels) in enumerate(train_loader):\n",
    "            images = images.to(device)\n",
    "            questions = questions.to(device)\n",
    "            labels = labels.to(device)\n",
    "\n",
    "            optimizer.zero_grad()\n",
    "            outputs = model(images, questions)\n",
    "            loss = criterion(outputs, labels)\n",
    "            loss.backward()\n",
    "            optimizer.step()\n",
    "\n",
    "            batch_train_losses.append(loss.item())\n",
    "\n",
    "        train_loss = sum(batch_train_losses) / len(batch_train_losses)\n",
    "        train_losses.append(train_loss)\n",
    "\n",
    "        val_loss, val_acc = evaluate(\n",
    "            model, val_loader,\n",
    "            criterion, device\n",
    "        )\n",
    "        val_losses.append(val_loss)\n",
    "\n",
    "        print(f'EPOCH {epoch + 1}:\\tTrain loss: {train_loss:.4f}\\tVal loss: {val_loss:.4f}\\tVal Acc: {val_acc}')\n",
    "\n",
    "        scheduler.step()\n",
    "\n",
    "    return train_losses, val_losses"
   ],
   "metadata": {
    "id": "MxNXk8_xrkon",
    "execution": {
     "iopub.status.busy": "2024-04-18T00:30:45.656458Z",
     "iopub.execute_input": "2024-04-18T00:30:45.656926Z",
     "iopub.status.idle": "2024-04-18T00:30:45.668959Z",
     "shell.execute_reply.started": "2024-04-18T00:30:45.656885Z",
     "shell.execute_reply": "2024-04-18T00:30:45.667842Z"
    },
    "trusted": true
   },
   "execution_count": 26,
   "outputs": []
  },
  {
   "cell_type": "code",
   "source": [
    "lr = 1e-4\n",
    "epochs = 80\n",
    "\n",
    "scheduler_step_size = epochs * 0.6\n",
    "criterion = nn.CrossEntropyLoss()\n",
    "\n",
    "optimizer = torch.optim.Adam(\n",
    "    model.parameters(),\n",
    "    lr=lr\n",
    ")\n",
    "scheduler = torch.optim.lr_scheduler.StepLR(\n",
    "    optimizer,\n",
    "    step_size=scheduler_step_size,\n",
    "    gamma=0.1\n",
    ")"
   ],
   "metadata": {
    "id": "6hj65HGor2pv",
    "execution": {
     "iopub.status.busy": "2024-04-18T00:31:00.802723Z",
     "iopub.execute_input": "2024-04-18T00:31:00.803099Z",
     "iopub.status.idle": "2024-04-18T00:31:00.810807Z",
     "shell.execute_reply.started": "2024-04-18T00:31:00.803073Z",
     "shell.execute_reply": "2024-04-18T00:31:00.809883Z"
    },
    "trusted": true
   },
   "execution_count": 27,
   "outputs": []
  },
  {
   "cell_type": "code",
   "source": [
    "train_losses, val_losses = fit(\n",
    "    model,\n",
    "    train_loader,\n",
    "    val_loader,\n",
    "    criterion,\n",
    "    optimizer,\n",
    "    scheduler,\n",
    "    device,\n",
    "    epochs\n",
    ")"
   ],
   "metadata": {
    "id": "z5Qmw6efr5HG",
    "colab": {
     "base_uri": "https://localhost:8080/"
    },
    "outputId": "e75bdfa0-e348-4a79-99c8-4318dd76e5ff",
    "execution": {
     "iopub.status.busy": "2024-04-18T00:31:58.296024Z",
     "iopub.execute_input": "2024-04-18T00:31:58.297126Z",
     "iopub.status.idle": "2024-04-18T01:59:41.610444Z",
     "shell.execute_reply.started": "2024-04-18T00:31:58.297089Z",
     "shell.execute_reply": "2024-04-18T01:59:41.609318Z"
    },
    "trusted": true
   },
   "execution_count": 28,
   "outputs": [
    {
     "name": "stdout",
     "text": "EPOCH 1:\tTrain loss: 0.6928\tVal loss: 0.6910\tVal Acc: 0.5348360655737705\nEPOCH 2:\tTrain loss: 0.6898\tVal loss: 0.6877\tVal Acc: 0.5573770491803278\nEPOCH 3:\tTrain loss: 0.6677\tVal loss: 0.6647\tVal Acc: 0.5901639344262295\nEPOCH 4:\tTrain loss: 0.5558\tVal loss: 0.6508\tVal Acc: 0.6465163934426229\nEPOCH 5:\tTrain loss: 0.3776\tVal loss: 0.6701\tVal Acc: 0.6680327868852459\nEPOCH 6:\tTrain loss: 0.2681\tVal loss: 0.7656\tVal Acc: 0.6941598360655737\nEPOCH 7:\tTrain loss: 0.2222\tVal loss: 0.7712\tVal Acc: 0.6859631147540983\nEPOCH 8:\tTrain loss: 0.2096\tVal loss: 0.7635\tVal Acc: 0.6880122950819673\nEPOCH 9:\tTrain loss: 0.1921\tVal loss: 0.7807\tVal Acc: 0.6890368852459017\nEPOCH 10:\tTrain loss: 0.1841\tVal loss: 0.8053\tVal Acc: 0.6741803278688525\nEPOCH 11:\tTrain loss: 0.1780\tVal loss: 0.7709\tVal Acc: 0.7028688524590164\nEPOCH 12:\tTrain loss: 0.1702\tVal loss: 0.7915\tVal Acc: 0.6875\nEPOCH 13:\tTrain loss: 0.1644\tVal loss: 0.8008\tVal Acc: 0.6726434426229508\nEPOCH 14:\tTrain loss: 0.1573\tVal loss: 0.8173\tVal Acc: 0.6921106557377049\nEPOCH 15:\tTrain loss: 0.1590\tVal loss: 0.8065\tVal Acc: 0.6813524590163934\nEPOCH 16:\tTrain loss: 0.1613\tVal loss: 0.7885\tVal Acc: 0.6910860655737705\nEPOCH 17:\tTrain loss: 0.1547\tVal loss: 0.7922\tVal Acc: 0.6900614754098361\nEPOCH 18:\tTrain loss: 0.1460\tVal loss: 0.8223\tVal Acc: 0.6849385245901639\nEPOCH 19:\tTrain loss: 0.1498\tVal loss: 0.8172\tVal Acc: 0.6890368852459017\nEPOCH 20:\tTrain loss: 0.1427\tVal loss: 0.8288\tVal Acc: 0.6900614754098361\nEPOCH 21:\tTrain loss: 0.1380\tVal loss: 0.8366\tVal Acc: 0.6905737704918032\nEPOCH 22:\tTrain loss: 0.1386\tVal loss: 0.8278\tVal Acc: 0.6936475409836066\nEPOCH 23:\tTrain loss: 0.1376\tVal loss: 0.8370\tVal Acc: 0.6823770491803278\nEPOCH 24:\tTrain loss: 0.1350\tVal loss: 0.8429\tVal Acc: 0.6839139344262295\nEPOCH 25:\tTrain loss: 0.1343\tVal loss: 0.8495\tVal Acc: 0.6875\nEPOCH 26:\tTrain loss: 0.1325\tVal loss: 0.8777\tVal Acc: 0.6854508196721312\nEPOCH 27:\tTrain loss: 0.1315\tVal loss: 0.8752\tVal Acc: 0.704405737704918\nEPOCH 28:\tTrain loss: 0.1253\tVal loss: 0.8873\tVal Acc: 0.6859631147540983\nEPOCH 29:\tTrain loss: 0.1241\tVal loss: 0.8577\tVal Acc: 0.6875\nEPOCH 30:\tTrain loss: 0.1236\tVal loss: 0.8763\tVal Acc: 0.694672131147541\nEPOCH 31:\tTrain loss: 0.1216\tVal loss: 0.8681\tVal Acc: 0.6890368852459017\nEPOCH 32:\tTrain loss: 0.1197\tVal loss: 0.9261\tVal Acc: 0.6972336065573771\nEPOCH 33:\tTrain loss: 0.1198\tVal loss: 0.9123\tVal Acc: 0.680327868852459\nEPOCH 34:\tTrain loss: 0.1156\tVal loss: 0.9321\tVal Acc: 0.6859631147540983\nEPOCH 35:\tTrain loss: 0.1152\tVal loss: 0.9336\tVal Acc: 0.6834016393442623\nEPOCH 36:\tTrain loss: 0.1136\tVal loss: 0.9524\tVal Acc: 0.6962090163934426\nEPOCH 37:\tTrain loss: 0.1175\tVal loss: 0.9018\tVal Acc: 0.6880122950819673\nEPOCH 38:\tTrain loss: 0.1143\tVal loss: 0.9501\tVal Acc: 0.6900614754098361\nEPOCH 39:\tTrain loss: 0.1116\tVal loss: 0.9505\tVal Acc: 0.694672131147541\nEPOCH 40:\tTrain loss: 0.1079\tVal loss: 0.9813\tVal Acc: 0.694672131147541\nEPOCH 41:\tTrain loss: 0.1099\tVal loss: 0.9787\tVal Acc: 0.6900614754098361\nEPOCH 42:\tTrain loss: 0.1122\tVal loss: 0.9719\tVal Acc: 0.6854508196721312\nEPOCH 43:\tTrain loss: 0.1086\tVal loss: 1.0147\tVal Acc: 0.6926229508196722\nEPOCH 44:\tTrain loss: 0.1079\tVal loss: 1.0129\tVal Acc: 0.6915983606557377\nEPOCH 45:\tTrain loss: 0.1069\tVal loss: 1.0114\tVal Acc: 0.6793032786885246\nEPOCH 46:\tTrain loss: 0.1034\tVal loss: 1.0396\tVal Acc: 0.6967213114754098\nEPOCH 47:\tTrain loss: 0.1053\tVal loss: 0.9941\tVal Acc: 0.6859631147540983\nEPOCH 48:\tTrain loss: 0.1039\tVal loss: 1.0283\tVal Acc: 0.6956967213114754\nEPOCH 49:\tTrain loss: 0.0986\tVal loss: 1.0503\tVal Acc: 0.6895491803278688\nEPOCH 50:\tTrain loss: 0.0976\tVal loss: 1.0652\tVal Acc: 0.694672131147541\nEPOCH 51:\tTrain loss: 0.0989\tVal loss: 1.0851\tVal Acc: 0.6926229508196722\nEPOCH 52:\tTrain loss: 0.0965\tVal loss: 1.0906\tVal Acc: 0.6910860655737705\nEPOCH 53:\tTrain loss: 0.0985\tVal loss: 1.0970\tVal Acc: 0.694672131147541\nEPOCH 54:\tTrain loss: 0.0993\tVal loss: 1.1035\tVal Acc: 0.6931352459016393\nEPOCH 55:\tTrain loss: 0.0973\tVal loss: 1.0957\tVal Acc: 0.6895491803278688\nEPOCH 56:\tTrain loss: 0.0979\tVal loss: 1.1089\tVal Acc: 0.6910860655737705\nEPOCH 57:\tTrain loss: 0.0992\tVal loss: 1.1230\tVal Acc: 0.6921106557377049\nEPOCH 58:\tTrain loss: 0.0980\tVal loss: 1.1188\tVal Acc: 0.694672131147541\nEPOCH 59:\tTrain loss: 0.0972\tVal loss: 1.1189\tVal Acc: 0.6931352459016393\nEPOCH 60:\tTrain loss: 0.0959\tVal loss: 1.1226\tVal Acc: 0.6895491803278688\nEPOCH 61:\tTrain loss: 0.0969\tVal loss: 1.1311\tVal Acc: 0.6941598360655737\nEPOCH 62:\tTrain loss: 0.0972\tVal loss: 1.1262\tVal Acc: 0.6921106557377049\nEPOCH 63:\tTrain loss: 0.0990\tVal loss: 1.1470\tVal Acc: 0.6921106557377049\nEPOCH 64:\tTrain loss: 0.0991\tVal loss: 1.1283\tVal Acc: 0.6905737704918032\nEPOCH 65:\tTrain loss: 0.0972\tVal loss: 1.1351\tVal Acc: 0.6936475409836066\nEPOCH 66:\tTrain loss: 0.0984\tVal loss: 1.1459\tVal Acc: 0.6931352459016393\nEPOCH 67:\tTrain loss: 0.0970\tVal loss: 1.1450\tVal Acc: 0.6875\nEPOCH 68:\tTrain loss: 0.0958\tVal loss: 1.1317\tVal Acc: 0.6936475409836066\nEPOCH 69:\tTrain loss: 0.0970\tVal loss: 1.1436\tVal Acc: 0.6941598360655737\nEPOCH 70:\tTrain loss: 0.0968\tVal loss: 1.1478\tVal Acc: 0.6905737704918032\nEPOCH 71:\tTrain loss: 0.0970\tVal loss: 1.1552\tVal Acc: 0.6936475409836066\nEPOCH 72:\tTrain loss: 0.0976\tVal loss: 1.1551\tVal Acc: 0.6875\nEPOCH 73:\tTrain loss: 0.0985\tVal loss: 1.1375\tVal Acc: 0.6905737704918032\nEPOCH 74:\tTrain loss: 0.0982\tVal loss: 1.1514\tVal Acc: 0.6880122950819673\nEPOCH 75:\tTrain loss: 0.0967\tVal loss: 1.1556\tVal Acc: 0.6864754098360656\nEPOCH 76:\tTrain loss: 0.0979\tVal loss: 1.1476\tVal Acc: 0.694672131147541\nEPOCH 77:\tTrain loss: 0.0967\tVal loss: 1.1557\tVal Acc: 0.6869877049180327\nEPOCH 79:\tTrain loss: 0.0961\tVal loss: 1.1501\tVal Acc: 0.6941598360655737\nEPOCH 80:\tTrain loss: 0.0949\tVal loss: 1.1546\tVal Acc: 0.6890368852459017\n",
     "output_type": "stream"
    }
   ]
  },
  {
   "cell_type": "code",
   "source": [
    "fig, ax = plt.subplots(1, 2, figsize=(12, 5))\n",
    "ax[0].plot(train_losses)\n",
    "ax[0].set_title('Training Loss')\n",
    "ax[0].set_xlabel('Epoch')\n",
    "ax[0].set_ylabel('Loss')\n",
    "ax[1].plot(val_losses, color='orange')\n",
    "ax[1].set_title('Val Loss')\n",
    "ax[1].set_xlabel('Epoch')\n",
    "ax[1].set_ylabel('Loss')\n",
    "\n",
    "plt.show()"
   ],
   "metadata": {
    "id": "xIobHWIptBQm",
    "colab": {
     "base_uri": "https://localhost:8080/",
     "height": 487
    },
    "outputId": "5784c533-8181-4028-e5af-61e6bfe51cd8",
    "execution": {
     "iopub.status.busy": "2024-04-18T02:06:06.763216Z",
     "iopub.execute_input": "2024-04-18T02:06:06.763625Z",
     "iopub.status.idle": "2024-04-18T02:06:07.287397Z",
     "shell.execute_reply.started": "2024-04-18T02:06:06.763591Z",
     "shell.execute_reply": "2024-04-18T02:06:07.286494Z"
    },
    "trusted": true
   },
   "execution_count": 33,
   "outputs": [
    {
     "output_type": "display_data",
     "data": {
      "text/plain": "<Figure size 1200x500 with 2 Axes>",
      "image/png": "[encoded data removed]"
     },
     "metadata": {}
    }
   ]
  },
  {
   "cell_type": "markdown",
   "source": [
    "## 7. Evaluation"
   ],
   "metadata": {
    "id": "JPFgeiArr6zp"
   }
  },
  {
   "cell_type": "code",
   "source": [
    "val_loss, val_acc = evaluate(\n",
    "    model,\n",
    "    val_loader,\n",
    "    criterion,\n",
    "    device\n",
    ")\n",
    "test_loss, test_acc = evaluate(\n",
    "    model,\n",
    "    test_loader,\n",
    "    criterion,\n",
    "    device\n",
    ")\n",
    "\n",
    "print('Evaluation on val/test dataset')\n",
    "print('Val accuracy: ', val_acc)\n",
    "print('Test accuracy: ', test_acc)"
   ],
   "metadata": {
    "id": "psvbHQpis5bm",
    "colab": {
     "base_uri": "https://localhost:8080/"
    },
    "outputId": "b5b9ef47-2cdd-4332-f126-33ed4963ac10",
    "execution": {
     "iopub.status.busy": "2024-04-18T02:00:36.165167Z",
     "iopub.execute_input": "2024-04-18T02:00:36.166150Z",
     "iopub.status.idle": "2024-04-18T02:00:55.045240Z",
     "shell.execute_reply.started": "2024-04-18T02:00:36.166114Z",
     "shell.execute_reply": "2024-04-18T02:00:55.044113Z"
    },
    "trusted": true
   },
   "execution_count": 30,
   "outputs": [
    {
     "name": "stdout",
     "text": "Evaluation on val/test dataset\nVal accuracy:  0.6890368852459017\nTest accuracy:  0.701780415430267\n",
     "output_type": "stream"
    }
   ]
  }
 ]
}
